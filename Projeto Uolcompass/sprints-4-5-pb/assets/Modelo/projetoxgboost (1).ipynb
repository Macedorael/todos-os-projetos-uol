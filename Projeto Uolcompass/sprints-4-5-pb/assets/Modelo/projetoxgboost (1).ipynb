{
 "cells": [
  {
   "cell_type": "code",
   "execution_count": null,
   "id": "b6805ffd-bdb2-469c-8b91-4f6e92fe8b03",
   "metadata": {
    "scrolled": true
   },
   "outputs": [],
   "source": [
    "pip install pandas numpy scikit-learn sqlalchemy boto3 sagemaker imbalanced-learn\n"
   ]
  },
  {
   "cell_type": "code",
   "execution_count": null,
   "id": "db520d68-99a4-4914-8aea-ede61cb61a05",
   "metadata": {},
   "outputs": [],
   "source": [
    "!pip install xgboost"
   ]
  },
  {
   "cell_type": "code",
   "execution_count": null,
   "id": "764ca820-dd3f-46d0-b029-222246e4c3fa",
   "metadata": {},
   "outputs": [],
   "source": [
    "pip install python-dotenv"
   ]
  },
  {
   "cell_type": "code",
   "execution_count": null,
   "id": "1aef8b53-b87a-469b-b70f-f67281beefad",
   "metadata": {},
   "outputs": [],
   "source": [
    "pip install pymysql"
   ]
  },
  {
   "cell_type": "code",
   "execution_count": null,
   "id": "0b94aa08-b5f1-4ad3-bf2e-22c1d6e74fbd",
   "metadata": {
    "scrolled": true
   },
   "outputs": [],
   "source": [
    "pip install seaborn"
   ]
  },
  {
   "cell_type": "code",
   "execution_count": null,
   "id": "819fa8e2-716c-4ce6-abc1-166207c334bd",
   "metadata": {},
   "outputs": [],
   "source": [
    "pip install imbalanced-learn"
   ]
  },
  {
   "cell_type": "code",
   "execution_count": 9,
   "id": "2fc711b5-1f5c-4a5c-b550-0b33259b2864",
   "metadata": {},
   "outputs": [
    {
     "name": "stdout",
     "output_type": "stream",
     "text": [
      "sagemaker.config INFO - Not applying SDK defaults from location: /etc/xdg/sagemaker/config.yaml\n",
      "sagemaker.config INFO - Not applying SDK defaults from location: /home/sagemaker-user/.config/sagemaker/config.yaml\n",
      "Todas as bibliotecas foram importadas com sucesso!\n"
     ]
    }
   ],
   "source": [
    "import pandas as pd\n",
    "import numpy as np\n",
    "from sklearn.model_selection import train_test_split, RandomizedSearchCV\n",
    "from sklearn.preprocessing import StandardScaler, OneHotEncoder, LabelEncoder\n",
    "from sklearn.compose import ColumnTransformer\n",
    "from sklearn.pipeline import Pipeline\n",
    "from sklearn.neighbors import KNeighborsClassifier\n",
    "from sklearn.metrics import balanced_accuracy_score, precision_score, recall_score, f1_score, classification_report, accuracy_score\n",
    "from imblearn.over_sampling import SMOTE\n",
    "from sklearn.utils.class_weight import compute_class_weight\n",
    "import xgboost as xgb\n",
    "import pymysql\n",
    "import os\n",
    "from dotenv import load_dotenv\n",
    "from sqlalchemy import create_engine\n",
    "import boto3\n",
    "from io import StringIO\n",
    "import sagemaker\n",
    "from sagemaker import get_execution_role\n",
    "from sagemaker.inputs import TrainingInput\n",
    "from sagemaker.xgboost import XGBoost\n",
    "import joblib  \n",
    "\n",
    "print(\"Todas as bibliotecas foram importadas com sucesso!\")"
   ]
  },
  {
   "cell_type": "code",
   "execution_count": 10,
   "id": "83753477-9df1-45b7-9cc2-100a98eecd6a",
   "metadata": {},
   "outputs": [],
   "source": [
    "# Configurações do S3 \n",
    "\n",
    "BUCKET_URI = \"s3://s3sagemakermo/Modelofinal/\"\n",
    "BUCKET_NAME = \"s3sagemakermo\"\n",
    "TARGET_NAME = \"label_avg_price_per_room\""
   ]
  },
  {
   "cell_type": "code",
   "execution_count": 16,
   "id": "ec6d6f29-8a64-4ac2-bef8-36bf924c347c",
   "metadata": {},
   "outputs": [
    {
     "data": {
      "text/html": [
       "<div>\n",
       "<style scoped>\n",
       "    .dataframe tbody tr th:only-of-type {\n",
       "        vertical-align: middle;\n",
       "    }\n",
       "\n",
       "    .dataframe tbody tr th {\n",
       "        vertical-align: top;\n",
       "    }\n",
       "\n",
       "    .dataframe thead th {\n",
       "        text-align: right;\n",
       "    }\n",
       "</style>\n",
       "<table border=\"1\" class=\"dataframe\">\n",
       "  <thead>\n",
       "    <tr style=\"text-align: right;\">\n",
       "      <th></th>\n",
       "      <th>Booking_ID</th>\n",
       "      <th>no_of_adults</th>\n",
       "      <th>no_of_children</th>\n",
       "      <th>no_of_weekend_nights</th>\n",
       "      <th>no_of_week_nights</th>\n",
       "      <th>type_of_meal_plan</th>\n",
       "      <th>required_car_parking_space</th>\n",
       "      <th>room_type_reserved</th>\n",
       "      <th>lead_time</th>\n",
       "      <th>arrival_year</th>\n",
       "      <th>arrival_month</th>\n",
       "      <th>arrival_date</th>\n",
       "      <th>market_segment_type</th>\n",
       "      <th>repeated_guest</th>\n",
       "      <th>no_of_previous_cancellations</th>\n",
       "      <th>no_of_previous_bookings_not_canceled</th>\n",
       "      <th>avg_price_per_room</th>\n",
       "      <th>no_of_special_requests</th>\n",
       "      <th>booking_status</th>\n",
       "    </tr>\n",
       "  </thead>\n",
       "  <tbody>\n",
       "    <tr>\n",
       "      <th>0</th>\n",
       "      <td>INN00001</td>\n",
       "      <td>2</td>\n",
       "      <td>0</td>\n",
       "      <td>1</td>\n",
       "      <td>2</td>\n",
       "      <td>Meal Plan 1</td>\n",
       "      <td>0</td>\n",
       "      <td>Room_Type 1</td>\n",
       "      <td>224</td>\n",
       "      <td>2017</td>\n",
       "      <td>10</td>\n",
       "      <td>2</td>\n",
       "      <td>Offline</td>\n",
       "      <td>0</td>\n",
       "      <td>0</td>\n",
       "      <td>0</td>\n",
       "      <td>65.00</td>\n",
       "      <td>0</td>\n",
       "      <td>Not_Canceled</td>\n",
       "    </tr>\n",
       "    <tr>\n",
       "      <th>1</th>\n",
       "      <td>INN00002</td>\n",
       "      <td>2</td>\n",
       "      <td>0</td>\n",
       "      <td>2</td>\n",
       "      <td>3</td>\n",
       "      <td>Not Selected</td>\n",
       "      <td>0</td>\n",
       "      <td>Room_Type 1</td>\n",
       "      <td>5</td>\n",
       "      <td>2018</td>\n",
       "      <td>11</td>\n",
       "      <td>6</td>\n",
       "      <td>Online</td>\n",
       "      <td>0</td>\n",
       "      <td>0</td>\n",
       "      <td>0</td>\n",
       "      <td>106.68</td>\n",
       "      <td>1</td>\n",
       "      <td>Not_Canceled</td>\n",
       "    </tr>\n",
       "    <tr>\n",
       "      <th>2</th>\n",
       "      <td>INN00003</td>\n",
       "      <td>1</td>\n",
       "      <td>0</td>\n",
       "      <td>2</td>\n",
       "      <td>1</td>\n",
       "      <td>Meal Plan 1</td>\n",
       "      <td>0</td>\n",
       "      <td>Room_Type 1</td>\n",
       "      <td>1</td>\n",
       "      <td>2018</td>\n",
       "      <td>2</td>\n",
       "      <td>28</td>\n",
       "      <td>Online</td>\n",
       "      <td>0</td>\n",
       "      <td>0</td>\n",
       "      <td>0</td>\n",
       "      <td>60.00</td>\n",
       "      <td>0</td>\n",
       "      <td>Canceled</td>\n",
       "    </tr>\n",
       "    <tr>\n",
       "      <th>3</th>\n",
       "      <td>INN00004</td>\n",
       "      <td>2</td>\n",
       "      <td>0</td>\n",
       "      <td>0</td>\n",
       "      <td>2</td>\n",
       "      <td>Meal Plan 1</td>\n",
       "      <td>0</td>\n",
       "      <td>Room_Type 1</td>\n",
       "      <td>211</td>\n",
       "      <td>2018</td>\n",
       "      <td>5</td>\n",
       "      <td>20</td>\n",
       "      <td>Online</td>\n",
       "      <td>0</td>\n",
       "      <td>0</td>\n",
       "      <td>0</td>\n",
       "      <td>100.00</td>\n",
       "      <td>0</td>\n",
       "      <td>Canceled</td>\n",
       "    </tr>\n",
       "    <tr>\n",
       "      <th>4</th>\n",
       "      <td>INN00005</td>\n",
       "      <td>2</td>\n",
       "      <td>0</td>\n",
       "      <td>1</td>\n",
       "      <td>1</td>\n",
       "      <td>Not Selected</td>\n",
       "      <td>0</td>\n",
       "      <td>Room_Type 1</td>\n",
       "      <td>48</td>\n",
       "      <td>2018</td>\n",
       "      <td>4</td>\n",
       "      <td>11</td>\n",
       "      <td>Online</td>\n",
       "      <td>0</td>\n",
       "      <td>0</td>\n",
       "      <td>0</td>\n",
       "      <td>94.50</td>\n",
       "      <td>0</td>\n",
       "      <td>Canceled</td>\n",
       "    </tr>\n",
       "  </tbody>\n",
       "</table>\n",
       "</div>"
      ],
      "text/plain": [
       "  Booking_ID  no_of_adults  no_of_children  no_of_weekend_nights  \\\n",
       "0   INN00001             2               0                     1   \n",
       "1   INN00002             2               0                     2   \n",
       "2   INN00003             1               0                     2   \n",
       "3   INN00004             2               0                     0   \n",
       "4   INN00005             2               0                     1   \n",
       "\n",
       "   no_of_week_nights type_of_meal_plan  required_car_parking_space  \\\n",
       "0                  2       Meal Plan 1                           0   \n",
       "1                  3      Not Selected                           0   \n",
       "2                  1       Meal Plan 1                           0   \n",
       "3                  2       Meal Plan 1                           0   \n",
       "4                  1      Not Selected                           0   \n",
       "\n",
       "  room_type_reserved  lead_time  arrival_year  arrival_month  arrival_date  \\\n",
       "0        Room_Type 1        224          2017             10             2   \n",
       "1        Room_Type 1          5          2018             11             6   \n",
       "2        Room_Type 1          1          2018              2            28   \n",
       "3        Room_Type 1        211          2018              5            20   \n",
       "4        Room_Type 1         48          2018              4            11   \n",
       "\n",
       "  market_segment_type  repeated_guest  no_of_previous_cancellations  \\\n",
       "0             Offline               0                             0   \n",
       "1              Online               0                             0   \n",
       "2              Online               0                             0   \n",
       "3              Online               0                             0   \n",
       "4              Online               0                             0   \n",
       "\n",
       "   no_of_previous_bookings_not_canceled  avg_price_per_room  \\\n",
       "0                                     0               65.00   \n",
       "1                                     0              106.68   \n",
       "2                                     0               60.00   \n",
       "3                                     0              100.00   \n",
       "4                                     0               94.50   \n",
       "\n",
       "   no_of_special_requests booking_status  \n",
       "0                       0   Not_Canceled  \n",
       "1                       1   Not_Canceled  \n",
       "2                       0       Canceled  \n",
       "3                       0       Canceled  \n",
       "4                       0       Canceled  "
      ]
     },
     "execution_count": 16,
     "metadata": {},
     "output_type": "execute_result"
    }
   ],
   "source": [
    "# Carrega as variáveis de ambiente do arquivo .env\n",
    "load_dotenv()\n",
    "\n",
    "# Configurações de conexão com o banco de dados\n",
    "host = os.getenv('DB_HOST')\n",
    "port = int(os.getenv('DB_PORT'))\n",
    "user = os.getenv('DB_USER')\n",
    "password = os.getenv('DB_PASSWORD')\n",
    "database = os.getenv('DB_NAME')\n",
    "\n",
    "# Criação do engine para conectar ao banco de dados\n",
    "engine = create_engine(f\"mysql+pymysql://{user}:{password}@{host}:{port}/{database}\")\n",
    "\n",
    "# Carregar dados do banco de dados\n",
    "try:\n",
    "    query = \"SELECT * FROM base_hotel\"  # nome da tabela \n",
    "    base_hotel = pd.read_sql_query(query, engine)\n",
    "except Exception as e:\n",
    "    print(f\"Erro ao conectar ou executar a consulta: {e}\")\n",
    "\n",
    "# Exibir o DataFrame (sem usar print)\n",
    "base_hotel.head()"
   ]
  },
  {
   "cell_type": "code",
   "execution_count": 20,
   "id": "f352869e-19a2-4b05-bc0c-d72e766dbd48",
   "metadata": {},
   "outputs": [
    {
     "data": {
      "text/plain": [
       "label_avg_price_per_room      0\n",
       "no_of_adults                  0\n",
       "no_of_children                0\n",
       "no_of_weekend_nights          0\n",
       "no_of_week_nights             0\n",
       "type_of_meal_plan             0\n",
       "required_car_parking_space    0\n",
       "room_type_reserved            0\n",
       "lead_time                     0\n",
       "arrival_year                  0\n",
       "arrival_month                 0\n",
       "market_segment_type           0\n",
       "no_of_special_requests        0\n",
       "dtype: int64"
      ]
     },
     "execution_count": 20,
     "metadata": {},
     "output_type": "execute_result"
    }
   ],
   "source": [
    "base_hotel.isnull().sum() #verificação de valores nulos "
   ]
  },
  {
   "cell_type": "code",
   "execution_count": 21,
   "id": "52128bc7-ad75-4439-9add-891df426fcaf",
   "metadata": {},
   "outputs": [],
   "source": [
    "# Função para classificar o preço\n",
    "def classify_price(price):\n",
    "    if price <= 85:\n",
    "        return 0\n",
    "\n",
    "    elif price > 85 and price < 115:\n",
    "        return 1\n",
    "    else:\n",
    "        return 2"
   ]
  },
  {
   "cell_type": "code",
   "execution_count": 18,
   "id": "4664a88c-d10a-43a4-b329-afc42d903933",
   "metadata": {},
   "outputs": [
    {
     "name": "stdout",
     "output_type": "stream",
     "text": [
      "Tabela 'base_hotel_modified' criada e salva com sucesso no banco de dados.\n"
     ]
    }
   ],
   "source": [
    "# Criar a coluna de label\n",
    "base_hotel['label_avg_price_per_room'] = base_hotel['avg_price_per_room'].apply(classify_price)\n",
    "\n",
    "# Remover a coluna avg_price_per_room\n",
    "base_hotel = base_hotel.drop(columns=['avg_price_per_room'])\n",
    "\n",
    "# Lista de colunas que você deseja remover\n",
    "colunas_para_remover = ['Booking_ID', 'arrival_date', 'repeated_guest', 'no_of_previous_cancellations', \n",
    "                        'no_of_previous_bookings_not_canceled', 'booking_status']\n",
    "\n",
    "# Remover colunas indesejadas\n",
    "base_hotel.drop(columns=colunas_para_remover, inplace=True)\n",
    "\n",
    "# Reorganizar as colunas para que 'label_avg_price_per_room' seja a primeira\n",
    "columns_order = ['label_avg_price_per_room'] + [col for col in base_hotel.columns if col != 'label_avg_price_per_room']\n",
    "base_hotel = base_hotel[columns_order]\n",
    "\n",
    "# Nome da nova tabela\n",
    "table_name = 'base_hotel_modified'\n",
    "\n",
    "# Salvar o DataFrame em uma nova tabela no banco de dados\n",
    "base_hotel.to_sql(name=table_name, con=engine, if_exists='replace', index=False)\n",
    "print(f\"Tabela '{table_name}' criada e salva com sucesso no banco de dados.\")\n"
   ]
  },
  {
   "cell_type": "code",
   "execution_count": 22,
   "id": "fde447e8-8cde-4aad-8751-c57c33c0a4d7",
   "metadata": {},
   "outputs": [
    {
     "name": "stdout",
     "output_type": "stream",
     "text": [
      "Colunas que o modelo precisará que sejam preenchidas:\n",
      "Index(['no_of_adults', 'no_of_children', 'no_of_weekend_nights',\n",
      "       'no_of_week_nights', 'type_of_meal_plan', 'required_car_parking_space',\n",
      "       'room_type_reserved', 'lead_time', 'arrival_year', 'arrival_month',\n",
      "       'market_segment_type', 'no_of_special_requests'],\n",
      "      dtype='object')\n"
     ]
    }
   ],
   "source": [
    "# Extrair as features (X) e o target (Y)\n",
    "X = base_hotel.iloc[:, 1:].values  # Seleciona todas as colunas exceto a primeira para X\n",
    "Y = base_hotel.iloc[:, 0].values   # Seleciona a primeira coluna (label_avg_price_per_room) para Y\n",
    "\n",
    "# Codificação das variáveis categóricas\n",
    "label_encoders = {} # Dicionário para armazenar os codificadores de rótulo\n",
    "for i, column in enumerate(base_hotel.columns[1:], start=1): \n",
    "    if base_hotel[column].dtype == 'object': # Verifica se a coluna é categórica\n",
    "        le = LabelEncoder() # Cria um codificador de rótulo\n",
    "        X[:, i-1] = le.fit_transform(X[:, i-1]) # Codifica a coluna categórica\n",
    "        label_encoders[column] = le # Armazena o codificador no dicionário\n",
    "\n",
    "# Converte X para float32\n",
    "X = np.array(X).astype('float32')\n",
    "\n",
    "# Dividir o conjunto de dados em treinamento e teste\n",
    "X_treinamento, X_teste, Y_treinamento, Y_teste = train_test_split(X, Y, test_size=0.3, random_state=0)\n",
    "\n",
    "# Imprimir as colunas que serão usadas como features\n",
    "colunas_features = base_hotel.columns[1:]  # Exclui a coluna 'label_avg_price_per_room'\n",
    "print(\"Colunas que o modelo precisará que sejam preenchidas:\")\n",
    "print(colunas_features)"
   ]
  },
  {
   "cell_type": "code",
   "execution_count": 23,
   "id": "6898f5b8-14cd-4b40-b12a-b622b2c767c3",
   "metadata": {},
   "outputs": [
    {
     "name": "stdout",
     "output_type": "stream",
     "text": [
      "Amostra de X_treinamento:\n",
      "    0    1    2    3    4    5    6      7       8     9    10   11\n",
      "0  2.0  0.0  2.0  1.0  3.0  0.0  0.0   89.0  2018.0   4.0  4.0  1.0\n",
      "1  2.0  0.0  0.0  2.0  0.0  0.0  0.0  308.0  2018.0  11.0  3.0  0.0\n",
      "2  1.0  0.0  2.0  1.0  0.0  0.0  0.0   20.0  2018.0   3.0  4.0  0.0\n",
      "3  2.0  0.0  0.0  5.0  0.0  0.0  0.0  230.0  2018.0   9.0  3.0  1.0\n",
      "4  2.0  0.0  2.0  2.0  0.0  0.0  0.0   80.0  2018.0   9.0  4.0  0.0\n",
      "\n",
      "Amostra de Y_treinamento:\n",
      "   0\n",
      "0  0\n",
      "1  0\n",
      "2  0\n",
      "3  2\n",
      "4  2\n",
      "\n",
      "Amostra de X_teste:\n",
      "    0    1    2    3    4    5    6      7       8     9    10   11\n",
      "0  3.0  0.0  2.0  3.0  0.0  0.0  3.0   22.0  2018.0   4.0  4.0  2.0\n",
      "1  2.0  0.0  0.0  3.0  0.0  0.0  0.0  193.0  2017.0  10.0  3.0  0.0\n",
      "2  2.0  0.0  0.0  2.0  1.0  0.0  0.0  257.0  2017.0   7.0  3.0  0.0\n",
      "3  2.0  0.0  2.0  4.0  0.0  0.0  3.0    7.0  2018.0   6.0  4.0  1.0\n",
      "4  2.0  0.0  0.0  2.0  1.0  0.0  0.0   39.0  2017.0   8.0  3.0  0.0\n",
      "\n",
      "Amostra de Y_teste:\n",
      "   0\n",
      "0  2\n",
      "1  0\n",
      "2  1\n",
      "3  2\n",
      "4  1\n"
     ]
    }
   ],
   "source": [
    "# Salvar os conjuntos de treinamento e teste como CSV\n",
    "pd.DataFrame(X_treinamento).to_csv('X_treinamento.csv', index=False)\n",
    "pd.DataFrame(X_teste).to_csv('X_teste.csv', index=False)\n",
    "pd.DataFrame(Y_treinamento).to_csv('Y_treinamento.csv', index=False)\n",
    "pd.DataFrame(Y_teste).to_csv('Y_teste.csv', index=False)\n",
    "\n",
    "# Imprimir uma amostra dos conjuntos de treinamento e teste\n",
    "print(\"Amostra de X_treinamento:\")\n",
    "print(pd.DataFrame(X_treinamento).head())\n",
    "\n",
    "print(\"\\nAmostra de Y_treinamento:\")\n",
    "print(pd.DataFrame(Y_treinamento).head())\n",
    "\n",
    "print(\"\\nAmostra de X_teste:\")\n",
    "print(pd.DataFrame(X_teste).head())\n",
    "\n",
    "print(\"\\nAmostra de Y_teste:\")\n",
    "print(pd.DataFrame(Y_teste).head())"
   ]
  },
  {
   "cell_type": "code",
   "execution_count": 26,
   "id": "d74b07f1-36b3-4ac8-b239-f9c4d330efeb",
   "metadata": {},
   "outputs": [
    {
     "name": "stdout",
     "output_type": "stream",
     "text": [
      "Fitting 3 folds for each of 20 candidates, totalling 60 fits\n",
      "Melhores hiperparâmetros encontrados:\n",
      " {'subsample': 1.0, 'n_estimators': 100, 'min_child_weight': 1, 'max_depth': 15, 'learning_rate': 0.1, 'gamma': 0.2, 'colsample_bytree': 0.8}\n",
      "XGBoost Accuracy Score: 0.8416796839106864\n",
      "XGBoost Classification Report:\n",
      "               precision    recall  f1-score   support\n",
      "\n",
      "           0       0.87      0.85      0.86      3258\n",
      "           1       0.80      0.81      0.80      4006\n",
      "           2       0.87      0.87      0.87      3619\n",
      "\n",
      "    accuracy                           0.84     10883\n",
      "   macro avg       0.84      0.84      0.84     10883\n",
      "weighted avg       0.84      0.84      0.84     10883\n",
      "\n",
      "Classes únicas no conjunto de teste: [0 1 2]\n",
      "Classes únicas nas previsões: [0 1 2]\n"
     ]
    },
    {
     "data": {
      "text/plain": [
       "['best_xgboost_model.pkl']"
      ]
     },
     "execution_count": 26,
     "metadata": {},
     "output_type": "execute_result"
    }
   ],
   "source": [
    "# Configuração dos hiperparâmetros para RandomizedSearchCV\n",
    "param_distributions = {\n",
    "    'n_estimators': [100, 200, 300, 400, 500],  # Número de árvores\n",
    "    'max_depth': [3, 5, 7, 10, 15],  # Profundidade máxima da árvore\n",
    "    'learning_rate': [0.01, 0.05, 0.1, 0.2, 0.3],  # Taxa de aprendizado\n",
    "    'subsample': [0.7, 0.8, 0.9, 1.0],  # Proporção de amostras usadas para ajustar cada árvore\n",
    "    'colsample_bytree': [0.7, 0.8, 0.9, 1.0],  # Proporção de colunas usadas para ajustar cada árvore\n",
    "    'gamma': [0, 0.1, 0.2, 0.3],  # Regularização\n",
    "    'min_child_weight': [1, 2, 3, 4]  # Peso mínimo da criança\n",
    "}\n",
    "\n",
    "# Inicializar o classificador XGBoost\n",
    "model_xgb = xgb.XGBClassifier(\n",
    "    eval_metric='mlogloss',  # Métrica para problemas de classificação multiclasse\n",
    "    num_class=len(np.unique(Y))  # Número de classes\n",
    ")\n",
    "\n",
    "# Inicializar o RandomizedSearchCV\n",
    "random_search = RandomizedSearchCV(\n",
    "    estimator=model_xgb,\n",
    "    param_distributions=param_distributions,\n",
    "    n_iter=20,  # Número de combinações aleatórias a serem testadas\n",
    "    scoring='accuracy',\n",
    "    cv=3,  # Número de folds para cross-validation\n",
    "    n_jobs=-1,  # Utiliza todos os núcleos do processador\n",
    "    verbose=1,  # Mostra detalhes sobre o progresso\n",
    "    random_state=0  # Para reprodutibilidade\n",
    ")\n",
    "\n",
    "# Treinar o RandomizedSearchCV\n",
    "random_search.fit(X_treinamento, Y_treinamento)\n",
    "\n",
    "# Melhor combinação de hiperparâmetros\n",
    "print(\"Melhores hiperparâmetros encontrados:\\n\", random_search.best_params_)\n",
    "\n",
    "# Melhor modelo encontrado\n",
    "best_model = random_search.best_estimator_\n",
    "\n",
    "# Fazer previsões\n",
    "Y_pred_xgb = best_model.predict(X_teste)\n",
    "\n",
    "# Avaliar o modelo\n",
    "print(\"XGBoost Accuracy Score:\", accuracy_score(Y_teste, Y_pred_xgb))\n",
    "print(\"XGBoost Classification Report:\\n\", classification_report(Y_teste, Y_pred_xgb))\n",
    "\n",
    "# Verifique as classes únicas no conjunto de teste e previsões\n",
    "print(\"Classes únicas no conjunto de teste:\", np.unique(Y_teste))\n",
    "print(\"Classes únicas nas previsões:\", np.unique(Y_pred_xgb))\n",
    "\n",
    "# Salvar o modelo treinado\n",
    "joblib.dump(best_model, 'best_xgboost_model.pkl')"
   ]
  },
  {
   "cell_type": "code",
   "execution_count": 28,
   "id": "82139a00-da79-439a-a907-d13a06a5c6c7",
   "metadata": {},
   "outputs": [
    {
     "name": "stdout",
     "output_type": "stream",
     "text": [
      "Matriz de Confusão:\n",
      " [[2765  424   69]\n",
      " [ 359 3237  410]\n",
      " [  63  398 3158]]\n"
     ]
    },
    {
     "data": {
      "image/png": "[encoded data removed]",
      "text/plain": [
       "<Figure size 800x600 with 2 Axes>"
      ]
     },
     "metadata": {},
     "output_type": "display_data"
    },
    {
     "name": "stdout",
     "output_type": "stream",
     "text": [
      "Importância das Features:\n",
      "                        Feature  Importance\n",
      "10         market_segment_type    0.214666\n",
      "6           room_type_reserved    0.173671\n",
      "8                 arrival_year    0.129483\n",
      "4            type_of_meal_plan    0.102869\n",
      "9                arrival_month    0.082295\n",
      "0                 no_of_adults    0.074103\n",
      "1               no_of_children    0.064821\n",
      "7                    lead_time    0.040137\n",
      "5   required_car_parking_space    0.033058\n",
      "2         no_of_weekend_nights    0.028756\n",
      "3            no_of_week_nights    0.028159\n",
      "11      no_of_special_requests    0.027982\n"
     ]
    },
    {
     "data": {
      "image/png": "[encoded data removed]",
      "text/plain": [
       "<Figure size 1000x800 with 1 Axes>"
      ]
     },
     "metadata": {},
     "output_type": "display_data"
    }
   ],
   "source": [
    "# Importar as bibliotecas necessárias\n",
    "import joblib\n",
    "import numpy as np\n",
    "import seaborn as sns\n",
    "import matplotlib.pyplot as plt\n",
    "from sklearn.metrics import confusion_matrix, accuracy_score, classification_report\n",
    "\n",
    "# (O restante do código permanece o mesmo)\n",
    "\n",
    "# Gerar e exibir a matriz de confusão para avaliar o desempenho do modelo\n",
    "conf_matrix = confusion_matrix(Y_teste, Y_pred_xgb)\n",
    "print(\"Matriz de Confusão:\\n\", conf_matrix)\n",
    "\n",
    "# Opcional: Exibir a matriz de confusão de forma visual (gráfico)\n",
    "plt.figure(figsize=(8, 6))\n",
    "sns.heatmap(conf_matrix, annot=True, fmt='d', cmap='Blues', xticklabels=np.unique(Y), yticklabels=np.unique(Y))\n",
    "plt.xlabel('Predicted Labels')\n",
    "plt.ylabel('True Labels')\n",
    "plt.title('Confusion Matrix - XGBoost')\n",
    "plt.show()\n",
    "\n",
    "# Gerar a importância das features\n",
    "importances = best_model.feature_importances_\n",
    "feature_names = base_hotel.columns[1:]  # Nome das features, excluindo a coluna de label\n",
    "\n",
    "# Exibir a importância das features\n",
    "feature_importance_df = pd.DataFrame({'Feature': feature_names, 'Importance': importances})\n",
    "feature_importance_df = feature_importance_df.sort_values(by='Importance', ascending=False)\n",
    "print(\"Importância das Features:\\n\", feature_importance_df)\n",
    "\n",
    "# Opcional: Plotar a importância das features\n",
    "plt.figure(figsize=(10, 8))\n",
    "sns.barplot(x='Importance', y='Feature', data=feature_importance_df)\n",
    "plt.title('Feature Importance - XGBoost')\n",
    "plt.show()"
   ]
  },
  {
   "cell_type": "code",
   "execution_count": 4,
   "id": "f660ff40-84ba-448a-93e3-b8b407ffa794",
   "metadata": {},
   "outputs": [
    {
     "name": "stdout",
     "output_type": "stream",
     "text": [
      "Modelo enviado para o bucket S3 no caminho: modelos/best_xgboost_model.pkl\n"
     ]
    }
   ],
   "source": [
    "import boto3\n",
    "# Configurar sessão do boto3\n",
    "s3 = boto3.client('s3')\n",
    "\n",
    "# Configurações do bucket S3\n",
    "s3_bucket = 's3sagemakermo'\n",
    "s3_model_path = 'modelos/best_xgboost_model.pkl'  # Caminho no bucket S3\n",
    "local_model_path = 'best_xgboost_model.pkl'  # Caminho local do arquivo\n",
    "\n",
    "# Fazer o upload do arquivo para o bucket S3\n",
    "try:\n",
    "    s3.upload_file(local_model_path, s3_bucket, s3_model_path)\n",
    "    print(f\"Modelo enviado para o bucket S3 no caminho: {s3_model_path}\")\n",
    "except Exception as e:\n",
    "    print(f\"Erro ao enviar o arquivo para o bucket S3: {e}\")"
   ]
  },
  {
   "cell_type": "markdown",
   "id": "e9652b6c-f39f-4c72-a8a3-929cdac81937",
   "metadata": {},
   "source": [
    "# SAGEMAKER "
   ]
  },
  {
   "cell_type": "code",
   "execution_count": 5,
   "id": "b13c776b-a8c5-4aa6-9c21-0be586f5f239",
   "metadata": {},
   "outputs": [
    {
     "name": "stdout",
     "output_type": "stream",
     "text": [
      "Role : arn:aws:iam::767397839645:role/service-role/AmazonSageMaker-ExecutionRole-20240822T110404\n",
      "Localização da base de treinamento X : s3://s3sagemakermo/datasets/hotel-prices/train/X_treinamento.csv\n",
      "Localização da base de teste X : s3://s3sagemakermo/datasets/hotel-prices/test/X_teste.csv\n",
      "Localização da base de treinamento Y : s3://s3sagemakermo/datasets/hotel-prices/train/Y_treinamento.csv\n",
      "Localização da base de teste Y : s3://s3sagemakermo/datasets/hotel-prices/test/Y_teste.csv\n",
      "Modelo final será salvo em : s3://s3sagemakermo/modelos/hotel-prices/xgboost/output/\n"
     ]
    }
   ],
   "source": [
    "# Configurar o SageMaker\n",
    "sess = sagemaker.Session()\n",
    "bucket = \"s3sagemakermo\"\n",
    "subpasta_modelo = 'modelos/hotel-prices/xgboost'\n",
    "subpasta_dataset = 'datasets/hotel-prices'\n",
    "\n",
    "key_X_train = 'X_treinamento.csv'\n",
    "key_X_test = 'X_teste.csv'\n",
    "key_Y_train = 'Y_treinamento.csv'\n",
    "key_Y_test = 'Y_teste.csv'\n",
    "\n",
    "role = get_execution_role()\n",
    "\n",
    "s3_X_train_data = f's3://{bucket}/{subpasta_dataset}/train/{key_X_train}'\n",
    "s3_X_test_data = f's3://{bucket}/{subpasta_dataset}/test/{key_X_test}'\n",
    "s3_Y_train_data = f's3://{bucket}/{subpasta_dataset}/train/{key_Y_train}'\n",
    "s3_Y_test_data = f's3://{bucket}/{subpasta_dataset}/test/{key_Y_test}'\n",
    "output_location = f's3://{bucket}/{subpasta_modelo}/output/'\n",
    "\n",
    "print('Role : {}'.format(role))\n",
    "print('Localização da base de treinamento X : {}'.format(s3_X_train_data))\n",
    "print('Localização da base de teste X : {}'.format(s3_X_test_data))\n",
    "print('Localização da base de treinamento Y : {}'.format(s3_Y_train_data))\n",
    "print('Localização da base de teste Y : {}'.format(s3_Y_test_data))\n",
    "print('Modelo final será salvo em : {}'.format(output_location))\n",
    "\n",
    "# Upload dos arquivos para o S3\n",
    "s3 = boto3.Session().resource('s3')\n",
    "\n",
    "with open('X_treinamento.csv', 'rb') as f:\n",
    "    s3.Bucket(bucket).Object(os.path.join(subpasta_dataset, 'train', key_X_train)).upload_fileobj(f)\n",
    "\n",
    "with open('X_teste.csv', 'rb') as f:\n",
    "    s3.Bucket(bucket).Object(os.path.join(subpasta_dataset, 'test', key_X_test)).upload_fileobj(f)\n",
    "\n",
    "with open('Y_treinamento.csv', 'rb') as f:\n",
    "    s3.Bucket(bucket).Object(os.path.join(subpasta_dataset, 'train', key_Y_train)).upload_fileobj(f)\n",
    "\n",
    "with open('Y_teste.csv', 'rb') as f:\n",
    "    s3.Bucket(bucket).Object(os.path.join(subpasta_dataset, 'test', key_Y_test)).upload_fileobj(f)"
   ]
  },
  {
   "cell_type": "markdown",
   "id": "c51a2058-73f8-4615-a127-37025d7f0466",
   "metadata": {},
   "source": [
    "# TREINAMENTO"
   ]
  },
  {
   "cell_type": "code",
   "execution_count": null,
   "id": "4dad9a9c-86ef-426d-8015-9560fd011705",
   "metadata": {},
   "outputs": [],
   "source": [
    "pip install --upgrade sagemaker"
   ]
  },
  {
   "cell_type": "code",
   "execution_count": 6,
   "id": "3067c624-deb8-440a-a918-4d5bf2602b09",
   "metadata": {},
   "outputs": [],
   "source": [
    "from sagemaker import image_uris"
   ]
  },
  {
   "cell_type": "code",
   "execution_count": 8,
   "id": "3ad98f73-5767-450f-a619-147ad8bcdec5",
   "metadata": {},
   "outputs": [
    {
     "name": "stderr",
     "output_type": "stream",
     "text": [
      "INFO:sagemaker.image_uris:Ignoring unnecessary instance type: None.\n",
      "INFO:sagemaker:Creating training-job with name: sagemaker-xgboost-2024-08-31-17-52-17-764\n"
     ]
    },
    {
     "name": "stdout",
     "output_type": "stream",
     "text": [
      "URI da imagem do XGBoost: 683313688378.dkr.ecr.us-east-1.amazonaws.com/sagemaker-xgboost:1.7-1\n",
      "Configuração dos canais de dados:\n",
      "{'train': <sagemaker.inputs.TrainingInput object at 0x7fc094f3d750>, 'validation': <sagemaker.inputs.TrainingInput object at 0x7fc094f3d900>}\n",
      "2024-08-31 17:52:20 Starting - Starting the training job...\n",
      "2024-08-31 17:52:35 Starting - Preparing the instances for training...\n",
      "2024-08-31 17:53:01 Downloading - Downloading input data...\n",
      "2024-08-31 17:53:26 Downloading - Downloading the training image...\n",
      "2024-08-31 17:54:17 Training - Training image download completed. Training in progress...\u001b[34m[2024-08-31 17:54:28.240 ip-10-0-79-4.ec2.internal:7 INFO utils.py:28] RULE_JOB_STOP_SIGNAL_FILENAME: None\u001b[0m\n",
      "\u001b[34m[2024-08-31 17:54:28.264 ip-10-0-79-4.ec2.internal:7 INFO profiler_config_parser.py:111] User has disabled profiler.\u001b[0m\n",
      "\u001b[34m[2024-08-31:17:54:28:INFO] Imported framework sagemaker_xgboost_container.training\u001b[0m\n",
      "\u001b[34m[2024-08-31:17:54:28:INFO] No GPUs detected (normal if no gpus installed)\u001b[0m\n",
      "\u001b[34m[2024-08-31:17:54:28:INFO] Running XGBoost Sagemaker in algorithm mode\u001b[0m\n",
      "\u001b[34m[2024-08-31:17:54:28:INFO] Determined 0 GPU(s) available on the instance.\u001b[0m\n",
      "\u001b[34m[2024-08-31:17:54:28:INFO] Determined delimiter of CSV input is ','\u001b[0m\n",
      "\u001b[34m[2024-08-31:17:54:28:INFO] Determined delimiter of CSV input is ','\u001b[0m\n",
      "\u001b[34m[2024-08-31:17:54:28:INFO] File path /opt/ml/input/data/train of input files\u001b[0m\n",
      "\u001b[34m[2024-08-31:17:54:28:INFO] Making smlinks from folder /opt/ml/input/data/train to folder /tmp/sagemaker_xgboost_input_data\u001b[0m\n",
      "\u001b[34m[2024-08-31:17:54:28:INFO] creating symlink between Path /opt/ml/input/data/train/X_treinamento.csv and destination /tmp/sagemaker_xgboost_input_data/X_treinamento.csv4290437789593677201\u001b[0m\n",
      "\u001b[34m[2024-08-31:17:54:28:INFO] files path: /tmp/sagemaker_xgboost_input_data\u001b[0m\n",
      "\u001b[34m[2024-08-31:17:54:28:INFO] Determined delimiter of CSV input is ','\u001b[0m\n",
      "\u001b[34m[2024-08-31:17:54:28:INFO] File path /opt/ml/input/data/validation of input files\u001b[0m\n",
      "\u001b[34m[2024-08-31:17:54:28:INFO] Making smlinks from folder /opt/ml/input/data/validation to folder /tmp/sagemaker_xgboost_input_data\u001b[0m\n",
      "\u001b[34m[2024-08-31:17:54:28:INFO] creating symlink between Path /opt/ml/input/data/validation/X_teste.csv and destination /tmp/sagemaker_xgboost_input_data/X_teste.csv7983860447075512292\u001b[0m\n",
      "\u001b[34m[2024-08-31:17:54:28:INFO] files path: /tmp/sagemaker_xgboost_input_data\u001b[0m\n",
      "\u001b[34m[2024-08-31:17:54:28:INFO] Determined delimiter of CSV input is ','\u001b[0m\n",
      "\u001b[34m[2024-08-31:17:54:28:INFO] Single node training.\u001b[0m\n",
      "\u001b[34m[2024-08-31:17:54:28:INFO] Train matrix has 25393 rows and 11 columns\u001b[0m\n",
      "\u001b[34m[2024-08-31:17:54:28:INFO] Validation matrix has 10884 rows\u001b[0m\n",
      "\u001b[34m[2024-08-31 17:54:28.726 ip-10-0-79-4.ec2.internal:7 INFO json_config.py:92] Creating hook from json_config at /opt/ml/input/config/debughookconfig.json.\u001b[0m\n",
      "\u001b[34m[2024-08-31 17:54:28.726 ip-10-0-79-4.ec2.internal:7 INFO hook.py:206] tensorboard_dir has not been set for the hook. SMDebug will not be exporting tensorboard summaries.\u001b[0m\n",
      "\u001b[34m[2024-08-31 17:54:28.727 ip-10-0-79-4.ec2.internal:7 INFO hook.py:259] Saving to /opt/ml/output/tensors\u001b[0m\n",
      "\u001b[34m[2024-08-31 17:54:28.727 ip-10-0-79-4.ec2.internal:7 INFO state_store.py:77] The checkpoint config file /opt/ml/input/config/checkpointconfig.json does not exist.\u001b[0m\n",
      "\u001b[34m[2024-08-31:17:54:28:INFO] Debug hook created from config\u001b[0m\n",
      "\u001b[34m[2024-08-31 17:54:28.769 ip-10-0-79-4.ec2.internal:7 INFO hook.py:427] Monitoring the collections: metrics\u001b[0m\n",
      "\u001b[34m[2024-08-31 17:54:28.771 ip-10-0-79-4.ec2.internal:7 INFO hook.py:491] Hook is writing from the hook with pid: 7\u001b[0m\n",
      "\u001b[34m[0]#011train-rmse:1.30687#011validation-rmse:1.31726\u001b[0m\n",
      "\u001b[34m[1]#011train-rmse:1.19053#011validation-rmse:1.20163\u001b[0m\n",
      "\u001b[34m[2]#011train-rmse:1.08788#011validation-rmse:1.09924\u001b[0m\n",
      "\u001b[34m[3]#011train-rmse:0.99579#011validation-rmse:1.00818\u001b[0m\n",
      "\u001b[34m[4]#011train-rmse:0.91396#011validation-rmse:0.92687\u001b[0m\n",
      "\u001b[34m[5]#011train-rmse:0.83917#011validation-rmse:0.85456\u001b[0m\n",
      "\u001b[34m[6]#011train-rmse:0.77311#011validation-rmse:0.79111\u001b[0m\n",
      "\u001b[34m[7]#011train-rmse:0.71453#011validation-rmse:0.73395\u001b[0m\n",
      "\u001b[34m[8]#011train-rmse:0.66261#011validation-rmse:0.68457\u001b[0m\n",
      "\u001b[34m[9]#011train-rmse:0.61631#011validation-rmse:0.64046\u001b[0m\n",
      "\u001b[34m[10]#011train-rmse:0.57775#011validation-rmse:0.60359\u001b[0m\n",
      "\u001b[34m[11]#011train-rmse:0.54094#011validation-rmse:0.57123\u001b[0m\n",
      "\u001b[34m[12]#011train-rmse:0.51036#011validation-rmse:0.54376\u001b[0m\n",
      "\u001b[34m[13]#011train-rmse:0.48056#011validation-rmse:0.51958\u001b[0m\n",
      "\u001b[34m[14]#011train-rmse:0.45519#011validation-rmse:0.49974\u001b[0m\n",
      "\u001b[34m[15]#011train-rmse:0.43537#011validation-rmse:0.48185\u001b[0m\n",
      "\u001b[34m[16]#011train-rmse:0.41612#011validation-rmse:0.46609\u001b[0m\n",
      "\u001b[34m[17]#011train-rmse:0.40171#011validation-rmse:0.45325\u001b[0m\n",
      "\u001b[34m[18]#011train-rmse:0.38684#011validation-rmse:0.44233\u001b[0m\n",
      "\u001b[34m[19]#011train-rmse:0.37390#011validation-rmse:0.43300\u001b[0m\n",
      "\u001b[34m[20]#011train-rmse:0.36245#011validation-rmse:0.42552\u001b[0m\n",
      "\u001b[34m[21]#011train-rmse:0.35325#011validation-rmse:0.41922\u001b[0m\n",
      "\u001b[34m[22]#011train-rmse:0.34363#011validation-rmse:0.41355\u001b[0m\n",
      "\u001b[34m[23]#011train-rmse:0.33559#011validation-rmse:0.40940\u001b[0m\n",
      "\u001b[34m[24]#011train-rmse:0.32883#011validation-rmse:0.40554\u001b[0m\n",
      "\u001b[34m[25]#011train-rmse:0.32418#011validation-rmse:0.40251\u001b[0m\n",
      "\u001b[34m[26]#011train-rmse:0.32108#011validation-rmse:0.39991\u001b[0m\n",
      "\u001b[34m[27]#011train-rmse:0.31628#011validation-rmse:0.39781\u001b[0m\n",
      "\u001b[34m[28]#011train-rmse:0.31327#011validation-rmse:0.39598\u001b[0m\n",
      "\u001b[34m[29]#011train-rmse:0.30891#011validation-rmse:0.39438\u001b[0m\n",
      "\u001b[34m[30]#011train-rmse:0.30688#011validation-rmse:0.39312\u001b[0m\n",
      "\u001b[34m[31]#011train-rmse:0.30516#011validation-rmse:0.39207\u001b[0m\n",
      "\u001b[34m[32]#011train-rmse:0.30352#011validation-rmse:0.39129\u001b[0m\n",
      "\u001b[34m[33]#011train-rmse:0.30128#011validation-rmse:0.39057\u001b[0m\n",
      "\u001b[34m[34]#011train-rmse:0.29992#011validation-rmse:0.39000\u001b[0m\n",
      "\u001b[34m[35]#011train-rmse:0.29864#011validation-rmse:0.38951\u001b[0m\n",
      "\u001b[34m[36]#011train-rmse:0.29720#011validation-rmse:0.38909\u001b[0m\n",
      "\u001b[34m[37]#011train-rmse:0.29508#011validation-rmse:0.38853\u001b[0m\n",
      "\u001b[34m[38]#011train-rmse:0.29311#011validation-rmse:0.38833\u001b[0m\n",
      "\u001b[34m[39]#011train-rmse:0.29233#011validation-rmse:0.38816\u001b[0m\n",
      "\u001b[34m[40]#011train-rmse:0.29102#011validation-rmse:0.38802\u001b[0m\n",
      "\u001b[34m[41]#011train-rmse:0.29069#011validation-rmse:0.38782\u001b[0m\n",
      "\u001b[34m[42]#011train-rmse:0.28903#011validation-rmse:0.38763\u001b[0m\n",
      "\u001b[34m[43]#011train-rmse:0.28824#011validation-rmse:0.38758\u001b[0m\n",
      "\u001b[34m[44]#011train-rmse:0.28701#011validation-rmse:0.38762\u001b[0m\n",
      "\u001b[34m[45]#011train-rmse:0.28652#011validation-rmse:0.38752\u001b[0m\n",
      "\u001b[34m[46]#011train-rmse:0.28492#011validation-rmse:0.38735\u001b[0m\n",
      "\u001b[34m[47]#011train-rmse:0.28366#011validation-rmse:0.38737\u001b[0m\n",
      "\u001b[34m[48]#011train-rmse:0.28354#011validation-rmse:0.38728\u001b[0m\n",
      "\u001b[34m[49]#011train-rmse:0.28345#011validation-rmse:0.38721\u001b[0m\n",
      "\u001b[34m[50]#011train-rmse:0.28284#011validation-rmse:0.38725\u001b[0m\n",
      "\u001b[34m[51]#011train-rmse:0.28227#011validation-rmse:0.38717\u001b[0m\n",
      "\u001b[34m[52]#011train-rmse:0.28178#011validation-rmse:0.38719\u001b[0m\n",
      "\u001b[34m[53]#011train-rmse:0.28127#011validation-rmse:0.38712\u001b[0m\n",
      "\u001b[34m[54]#011train-rmse:0.28028#011validation-rmse:0.38710\u001b[0m\n",
      "\u001b[34m[55]#011train-rmse:0.28010#011validation-rmse:0.38711\u001b[0m\n",
      "\u001b[34m[56]#011train-rmse:0.27852#011validation-rmse:0.38706\u001b[0m\n",
      "\u001b[34m[57]#011train-rmse:0.27842#011validation-rmse:0.38702\u001b[0m\n",
      "\u001b[34m[58]#011train-rmse:0.27804#011validation-rmse:0.38702\u001b[0m\n",
      "\u001b[34m[59]#011train-rmse:0.27688#011validation-rmse:0.38711\u001b[0m\n",
      "\u001b[34m[60]#011train-rmse:0.27665#011validation-rmse:0.38713\u001b[0m\n",
      "\u001b[34m[61]#011train-rmse:0.27657#011validation-rmse:0.38711\u001b[0m\n",
      "\u001b[34m[62]#011train-rmse:0.27577#011validation-rmse:0.38709\u001b[0m\n",
      "\u001b[34m[63]#011train-rmse:0.27510#011validation-rmse:0.38713\u001b[0m\n",
      "\u001b[34m[64]#011train-rmse:0.27481#011validation-rmse:0.38712\u001b[0m\n",
      "\u001b[34m[65]#011train-rmse:0.27437#011validation-rmse:0.38716\u001b[0m\n",
      "\u001b[34m[66]#011train-rmse:0.27389#011validation-rmse:0.38715\u001b[0m\n",
      "\u001b[34m[67]#011train-rmse:0.27389#011validation-rmse:0.38715\u001b[0m\n",
      "\u001b[34m[68]#011train-rmse:0.27338#011validation-rmse:0.38716\u001b[0m\n",
      "\u001b[34m[69]#011train-rmse:0.27337#011validation-rmse:0.38716\u001b[0m\n",
      "\u001b[34m[70]#011train-rmse:0.27337#011validation-rmse:0.38716\u001b[0m\n",
      "\u001b[34m[71]#011train-rmse:0.27329#011validation-rmse:0.38716\u001b[0m\n",
      "\u001b[34m[72]#011train-rmse:0.27148#011validation-rmse:0.38720\u001b[0m\n",
      "\u001b[34m[73]#011train-rmse:0.27101#011validation-rmse:0.38715\u001b[0m\n",
      "\u001b[34m[74]#011train-rmse:0.27101#011validation-rmse:0.38715\u001b[0m\n",
      "\u001b[34m[75]#011train-rmse:0.27101#011validation-rmse:0.38715\u001b[0m\n",
      "\u001b[34m[76]#011train-rmse:0.27101#011validation-rmse:0.38715\u001b[0m\n",
      "\u001b[34m[77]#011train-rmse:0.27101#011validation-rmse:0.38715\u001b[0m\n",
      "\u001b[34m[78]#011train-rmse:0.27094#011validation-rmse:0.38718\u001b[0m\n",
      "\u001b[34m[79]#011train-rmse:0.27091#011validation-rmse:0.38716\u001b[0m\n",
      "\u001b[34m[80]#011train-rmse:0.27091#011validation-rmse:0.38716\u001b[0m\n",
      "\u001b[34m[81]#011train-rmse:0.27091#011validation-rmse:0.38716\u001b[0m\n",
      "\u001b[34m[82]#011train-rmse:0.27091#011validation-rmse:0.38716\u001b[0m\n",
      "\u001b[34m[83]#011train-rmse:0.27091#011validation-rmse:0.38716\u001b[0m\n",
      "\u001b[34m[84]#011train-rmse:0.27091#011validation-rmse:0.38716\u001b[0m\n",
      "\u001b[34m[85]#011train-rmse:0.27091#011validation-rmse:0.38716\u001b[0m\n",
      "\u001b[34m[86]#011train-rmse:0.27090#011validation-rmse:0.38716\u001b[0m\n",
      "\u001b[34m[87]#011train-rmse:0.27086#011validation-rmse:0.38715\u001b[0m\n",
      "\u001b[34m[88]#011train-rmse:0.27086#011validation-rmse:0.38715\u001b[0m\n",
      "\u001b[34m[89]#011train-rmse:0.27085#011validation-rmse:0.38716\u001b[0m\n",
      "\u001b[34m[90]#011train-rmse:0.27085#011validation-rmse:0.38716\u001b[0m\n",
      "\u001b[34m[91]#011train-rmse:0.27085#011validation-rmse:0.38716\u001b[0m\n",
      "\u001b[34m[92]#011train-rmse:0.27085#011validation-rmse:0.38716\u001b[0m\n",
      "\u001b[34m[93]#011train-rmse:0.27085#011validation-rmse:0.38716\u001b[0m\n",
      "\u001b[34m[94]#011train-rmse:0.27085#011validation-rmse:0.38716\u001b[0m\n",
      "\u001b[34m[95]#011train-rmse:0.27085#011validation-rmse:0.38716\u001b[0m\n",
      "\u001b[34m[96]#011train-rmse:0.27085#011validation-rmse:0.38716\u001b[0m\n",
      "\u001b[34m[97]#011train-rmse:0.27085#011validation-rmse:0.38716\u001b[0m\n",
      "\u001b[34m[98]#011train-rmse:0.27085#011validation-rmse:0.38716\u001b[0m\n",
      "\u001b[34m[99]#011train-rmse:0.27085#011validation-rmse:0.38716\u001b[0m\n",
      "\n",
      "2024-08-31 17:54:51 Uploading - Uploading generated training model\n",
      "2024-08-31 17:54:51 Completed - Training job completed\n",
      "Training seconds: 110\n",
      "Billable seconds: 110\n"
     ]
    }
   ],
   "source": [
    "# Recupera a URI da imagem do XGBoost\n",
    "container = image_uris.retrieve(framework='xgboost', region=boto3.Session().region_name, version='1.7-1')\n",
    "print('URI da imagem do XGBoost:', container)\n",
    "\n",
    "xgboost = sagemaker.estimator.Estimator(\n",
    "    image_uri=container,\n",
    "    role=role,\n",
    "    instance_count=1,\n",
    "    instance_type='ml.m5.xlarge',  # Verifique a instância, por exemplo: ml.m4.xlarge\n",
    "    output_path=output_location,\n",
    "    sagemaker_session=sess\n",
    ")\n",
    "\n",
    "xgboost.set_hyperparameters(\n",
    "    subsample=1.0,\n",
    "    min_child_weight=1,\n",
    "    max_depth=15,\n",
    "    learning_rate=0.1,\n",
    "    gamma=0.2,\n",
    "    colsample_bytree=0.8,\n",
    "    num_round=100  \n",
    ")\n",
    "\n",
    "# Configurar os dados de entrada para o treinamento\n",
    "train_input = sagemaker.inputs.TrainingInput(\n",
    "    s3_data=s3_X_train_data,\n",
    "    content_type='csv',\n",
    "    s3_data_type='S3Prefix'\n",
    ")\n",
    "\n",
    "validation_input = sagemaker.inputs.TrainingInput(\n",
    "    s3_data=s3_X_test_data,\n",
    "    content_type='csv',\n",
    "    s3_data_type='S3Prefix'\n",
    ")\n",
    "\n",
    "# Dicionário de canais de dados\n",
    "data_channels = {\n",
    "    'train': train_input,\n",
    "    'validation': validation_input\n",
    "}\n",
    "\n",
    "print('Configuração dos canais de dados:')\n",
    "print(data_channels)\n",
    "\n",
    "# Iniciar o treinamento\n",
    "xgboost.fit(data_channels)"
   ]
  },
  {
   "cell_type": "code",
   "execution_count": 14,
   "id": "b90ebe5b-b061-4159-8729-6738508ec3ec",
   "metadata": {},
   "outputs": [],
   "source": [
    "import boto3\n",
    "\n",
    "s3_bucket = 's3sagemakermo'\n",
    "s3_key = 'modelos/hotel-prices/xgboost/output/sagemaker-xgboost-2024-08-31-17-52-17-764/output/model.tar.gz'\n",
    "local_tar_path = 'model.tar.gz'\n",
    "\n",
    "s3 = boto3.client('s3')\n",
    "s3.download_file(s3_bucket, s3_key, local_tar_path)"
   ]
  },
  {
   "cell_type": "code",
   "execution_count": 15,
   "id": "68931ddc-279e-49d0-8ed7-04009542ca34",
   "metadata": {},
   "outputs": [],
   "source": [
    "import tarfile\n",
    "\n",
    "extracted_model_path = 'xgboost-model'\n",
    "\n",
    "with tarfile.open(local_tar_path, 'r:gz') as tar:\n",
    "    tar.extractall(path=extracted_model_path)"
   ]
  },
  {
   "cell_type": "code",
   "execution_count": 16,
   "id": "2c5bcc03-3cf1-4f70-b33b-2e1bf4ba9721",
   "metadata": {},
   "outputs": [
    {
     "name": "stdout",
     "output_type": "stream",
     "text": [
      "Feature names: None\n"
     ]
    }
   ],
   "source": [
    "import xgboost as xgb\n",
    "\n",
    "# Carregar o modelo\n",
    "model_path = f'{extracted_model_path}/xgboost-model'\n",
    "model = xgb.Booster()\n",
    "model.load_model(model_path)\n",
    "\n",
    "# Obter informações sobre o modelo\n",
    "feature_names = model.feature_names\n",
    "print(\"Feature names:\", feature_names)"
   ]
  },
  {
   "cell_type": "code",
   "execution_count": 17,
   "id": "310dd0b0-7a77-4d74-b3e3-d992c41b7b0a",
   "metadata": {},
   "outputs": [
    {
     "data": {
      "text/plain": [
       "<Figure size 1000x800 with 0 Axes>"
      ]
     },
     "metadata": {},
     "output_type": "display_data"
    },
    {
     "data": {
      "image/png": "[encoded data removed]",
      "text/plain": [
       "<Figure size 640x480 with 1 Axes>"
      ]
     },
     "metadata": {},
     "output_type": "display_data"
    }
   ],
   "source": [
    "import xgboost as xgb\n",
    "import pandas as pd\n",
    "import matplotlib.pyplot as plt\n",
    "\n",
    "# Carregar o modelo\n",
    "model_path = f'{extracted_model_path}/xgboost-model'\n",
    "model = xgb.Booster()\n",
    "model.load_model(model_path)\n",
    "\n",
    "# Plotar a importância das características\n",
    "plt.figure(figsize=(10, 8))\n",
    "xgb.plot_importance(model, importance_type='weight')\n",
    "plt.show()"
   ]
  }
 ],
 "metadata": {
  "kernelspec": {
   "display_name": "Python 3 (ipykernel)",
   "language": "python",
   "name": "python3"
  },
  "language_info": {
   "codemirror_mode": {
    "name": "ipython",
    "version": 3
   },
   "file_extension": ".py",
   "mimetype": "text/x-python",
   "name": "python",
   "nbconvert_exporter": "python",
   "pygments_lexer": "ipython3",
   "version": "3.10.14"
  }
 },
 "nbformat": 4,
 "nbformat_minor": 5
}
